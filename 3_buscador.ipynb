{
 "cells": [
  {
   "cell_type": "code",
   "execution_count": 1,
   "metadata": {},
   "outputs": [],
   "source": [
    "import pandas as pd \n"
   ]
  },
  {
   "cell_type": "code",
   "execution_count": 2,
   "metadata": {},
   "outputs": [],
   "source": [
    "df_buscador = pd.read_csv(\"Dataset/df_analisis_general1.csv\")"
   ]
  },
  {
   "cell_type": "code",
   "execution_count": 3,
   "metadata": {},
   "outputs": [
    {
     "name": "stdout",
     "output_type": "stream",
     "text": [
      "<class 'pandas.core.frame.DataFrame'>\n",
      "RangeIndex: 9619 entries, 0 to 9618\n",
      "Data columns (total 21 columns):\n",
      " #   Column              Non-Null Count  Dtype  \n",
      "---  ------              --------------  -----  \n",
      " 0   Unnamed: 0          9619 non-null   int64  \n",
      " 1   Title               9619 non-null   object \n",
      " 2   Synopsis            8019 non-null   object \n",
      " 3   Genero              9101 non-null   object \n",
      " 4   Rating              8042 non-null   float64\n",
      " 5   Popularity          9619 non-null   int64  \n",
      " 6   Vote Count          8042 non-null   float64\n",
      " 7   Original Language   9619 non-null   object \n",
      " 8   Origin Country      9619 non-null   object \n",
      " 9   First Air Date      9619 non-null   object \n",
      " 10  In production       9619 non-null   bool   \n",
      " 11  Status              9619 non-null   object \n",
      " 12  Number of Season    9619 non-null   int64  \n",
      " 13  Number of Episodes  9619 non-null   int64  \n",
      " 14  Episode Duration    8060 non-null   float64\n",
      " 15  Where to Watch      9619 non-null   object \n",
      " 16  Reviews             9619 non-null   object \n",
      " 17  Cast                9109 non-null   object \n",
      " 18  Poster              9619 non-null   object \n",
      " 19  Trailer             9619 non-null   object \n",
      " 20  release_year        9619 non-null   int64  \n",
      "dtypes: bool(1), float64(3), int64(5), object(12)\n",
      "memory usage: 1.5+ MB\n"
     ]
    }
   ],
   "source": [
    "df_buscador.info()"
   ]
  },
  {
   "cell_type": "markdown",
   "metadata": {},
   "source": [
    "sustituyo los nulos de rating, vote count y episode duration por la media"
   ]
  },
  {
   "cell_type": "code",
   "execution_count": 4,
   "metadata": {},
   "outputs": [
    {
     "name": "stderr",
     "output_type": "stream",
     "text": [
      "/var/folders/2x/t9dxtxdd28d5d8ddpkgy0y200000gq/T/ipykernel_79976/364222418.py:4: FutureWarning: A value is trying to be set on a copy of a DataFrame or Series through chained assignment using an inplace method.\n",
      "The behavior will change in pandas 3.0. This inplace method will never work because the intermediate object on which we are setting values always behaves as a copy.\n",
      "\n",
      "For example, when doing 'df[col].method(value, inplace=True)', try using 'df.method({col: value}, inplace=True)' or df[col] = df[col].method(value) instead, to perform the operation inplace on the original object.\n",
      "\n",
      "\n",
      "  df_buscador[\"Rating\"].fillna(mean_rating, inplace=True)\n",
      "/var/folders/2x/t9dxtxdd28d5d8ddpkgy0y200000gq/T/ipykernel_79976/364222418.py:5: FutureWarning: A value is trying to be set on a copy of a DataFrame or Series through chained assignment using an inplace method.\n",
      "The behavior will change in pandas 3.0. This inplace method will never work because the intermediate object on which we are setting values always behaves as a copy.\n",
      "\n",
      "For example, when doing 'df[col].method(value, inplace=True)', try using 'df.method({col: value}, inplace=True)' or df[col] = df[col].method(value) instead, to perform the operation inplace on the original object.\n",
      "\n",
      "\n",
      "  df_buscador[\"Vote Count\"].fillna(mean_count, inplace=True)\n",
      "/var/folders/2x/t9dxtxdd28d5d8ddpkgy0y200000gq/T/ipykernel_79976/364222418.py:6: FutureWarning: A value is trying to be set on a copy of a DataFrame or Series through chained assignment using an inplace method.\n",
      "The behavior will change in pandas 3.0. This inplace method will never work because the intermediate object on which we are setting values always behaves as a copy.\n",
      "\n",
      "For example, when doing 'df[col].method(value, inplace=True)', try using 'df.method({col: value}, inplace=True)' or df[col] = df[col].method(value) instead, to perform the operation inplace on the original object.\n",
      "\n",
      "\n",
      "  df_buscador[\"Episode Duration\"].fillna(mean_duration, inplace=True)\n"
     ]
    }
   ],
   "source": [
    "mean_rating= df_buscador[\"Rating\"].mean()\n",
    "mean_count= df_buscador[\"Vote Count\"].mean()\n",
    "mean_duration = df_buscador[\"Episode Duration\"].mean()\n",
    "df_buscador[\"Rating\"].fillna(mean_rating, inplace=True)\n",
    "df_buscador[\"Vote Count\"].fillna(mean_count, inplace=True)\n",
    "df_buscador[\"Episode Duration\"].fillna(mean_duration, inplace=True)"
   ]
  },
  {
   "cell_type": "markdown",
   "metadata": {},
   "source": [
    "Convierto vote count y episode duration a int"
   ]
  },
  {
   "cell_type": "code",
   "execution_count": 5,
   "metadata": {},
   "outputs": [],
   "source": [
    "df_buscador[\"Vote Count\"]= df_buscador[\"Vote Count\"].astype(int)\n",
    "df_buscador[\"Episode Duration\"] = df_buscador[\"Episode Duration\"].astype(int)"
   ]
  },
  {
   "cell_type": "markdown",
   "metadata": {},
   "source": [
    "Paso los nombres de las series a Title"
   ]
  },
  {
   "cell_type": "code",
   "execution_count": 6,
   "metadata": {},
   "outputs": [],
   "source": [
    "df_buscador[\"Title\"]= df_buscador[\"Title\"].str.title()"
   ]
  },
  {
   "cell_type": "code",
   "execution_count": 7,
   "metadata": {},
   "outputs": [],
   "source": [
    "df_buscador.to_csv(\"Dataset/df_buscador_streamlit2.csv\") # uso este df para el buscador de series de streamlit"
   ]
  }
 ],
 "metadata": {
  "kernelspec": {
   "display_name": "original",
   "language": "python",
   "name": "python3"
  },
  "language_info": {
   "codemirror_mode": {
    "name": "ipython",
    "version": 3
   },
   "file_extension": ".py",
   "mimetype": "text/x-python",
   "name": "python",
   "nbconvert_exporter": "python",
   "pygments_lexer": "ipython3",
   "version": "3.12.5"
  }
 },
 "nbformat": 4,
 "nbformat_minor": 2
}
